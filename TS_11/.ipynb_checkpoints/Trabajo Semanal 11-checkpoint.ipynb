{
 "cells": [
  {
   "cell_type": "markdown",
   "id": "d3799328",
   "metadata": {},
   "source": [
    "<img src=\"./img/Logo.jpg\" align=\"right\" width=\"150\" /> \n",
    "\n",
    "#### Teoría de los Circuitos 2\n",
    "\n",
    "# Trabajo Semanal 11 - Funciones de Excitación Disipativas\n",
    "\n",
    "### Juan Manuel Ronchetti"
   ]
  },
  {
   "cell_type": "markdown",
   "id": "6ea21d88",
   "metadata": {},
   "source": [
    "# Ejercicio 1\n",
    "Encuentre el valor de los componentes del siguiente circuito:\n",
    "\n",
    "<img src=\"./img/Circuito1.png\" width=\"350\" /> \n",
    "\n",
    "Sabiendo que está caracterizado por la siguiente función de excitación y constantes de tiempo:\n",
    "\n",
    "\\begin{equation} R_1 C_1= \\frac{1}{6} \\end{equation}\n",
    "   \n",
    "\\begin{equation} R_2 C_2= \\frac{2}{7} \\end{equation}\n",
    "\n",
    "\\begin{equation} Z(s) = \\frac{s^2+6s+8}{s^2+4s+3} \\end{equation}\n",
    "\n",
    "## Resolucion\n",
    "\n",
    "<img src=\"./img/2a.jfif\" width=\"650\" /> \n",
    "<img src=\"./img/2b.jfif\" width=\"650\" /> \n",
    "<img src=\"./img/2c.jfif\" width=\"650\" /> "
   ]
  },
  {
   "cell_type": "markdown",
   "id": "a39d0030",
   "metadata": {},
   "source": [
    "# Ejercicio 2\n",
    "\n",
    "Determine el valor de los componentes que integran el siguiente dipolo, sabiendo que satisface la impedancia propuesta:\n",
    "\n",
    "<img src=\"./img/Circuito2.png\" width=\"350\" /> \n",
    "\n",
    "\\begin{equation} Z(s) = \\frac{s^2+s+1}{(s^2+2s+5)(s+1)} \\end{equation}\n",
    "\n",
    "## Resolución\n",
    "\n",
    "<img src=\"./img/1a.jfif\" width=\"650\" /> \n",
    "<img src=\"./img/1b.jfif\" width=\"650\" /> "
   ]
  }
 ],
 "metadata": {
  "kernelspec": {
   "display_name": "Python 3 (ipykernel)",
   "language": "python",
   "name": "python3"
  },
  "language_info": {
   "codemirror_mode": {
    "name": "ipython",
    "version": 3
   },
   "file_extension": ".py",
   "mimetype": "text/x-python",
   "name": "python",
   "nbconvert_exporter": "python",
   "pygments_lexer": "ipython3",
   "version": "3.9.13"
  }
 },
 "nbformat": 4,
 "nbformat_minor": 5
}
