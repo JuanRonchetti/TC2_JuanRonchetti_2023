{
 "cells": [
  {
   "cell_type": "markdown",
   "id": "d3799328",
   "metadata": {},
   "source": [
    "<img src=\"./img/Logo.jpg\" align=\"right\" width=\"150\" /> \n",
    "\n",
    "#### Teoría de los Circuitos 2\n",
    "\n",
    "# Trabajo Semanal 13 - Síntesis de Cuadripolos Simplemente Cargados\n",
    "\n",
    "### Juan Manuel Ronchetti"
   ]
  },
  {
   "cell_type": "markdown",
   "id": "6ea21d88",
   "metadata": {},
   "source": [
    "# Ejercicio 1\n",
    "Sintetice la siguiente transferencia cargada con componentes RC:  \n",
    "\n",
    "<img src=\"./img/Ej1.png\" width=\"400\" /> \n",
    "\n",
    "a) Obtener la topología mediante la síntesis gráfica, es decir la red sin valores.\n",
    "\n",
    "b) Calcular el valor de los componentes, es decir la síntesis analítica.\n",
    "\n",
    "\n",
    "## Resolución\n",
    "\n",
    "<img src=\"./img/1a.jpg\" width=\"650\" /> \n",
    "<img src=\"./img/1b.jpg\" width=\"650\" /> "
   ]
  },
  {
   "cell_type": "markdown",
   "id": "a39d0030",
   "metadata": {},
   "source": [
    "# Ejercicio 2\n",
    "\n",
    "Dada la siguiente transferencia de impedancia:\n",
    "\n",
    "<img src=\"./img/Ej2.png\" width=\"400\" /> \n",
    "\n",
    "a) Sintetizar un cuadripolo pasivo sin pérdidas, que cumpla con la transimpedancia indicada, cargado a la salida con una impedancia como se muestra en la figura.\n",
    "\n",
    "b) Verificar la transimpedancia del circuito obtenido y hallar el valor de k.\n",
    "\n",
    "## Resolución\n",
    "\n",
    "<img src=\"./img/2a.jpg\" width=\"650\" /> \n",
    "<img src=\"./img/2b.jpg\" width=\"650\" /> "
   ]
  }
 ],
 "metadata": {
  "kernelspec": {
   "display_name": "Python 3 (ipykernel)",
   "language": "python",
   "name": "python3"
  },
  "language_info": {
   "codemirror_mode": {
    "name": "ipython",
    "version": 3
   },
   "file_extension": ".py",
   "mimetype": "text/x-python",
   "name": "python",
   "nbconvert_exporter": "python",
   "pygments_lexer": "ipython3",
   "version": "3.9.13"
  }
 },
 "nbformat": 4,
 "nbformat_minor": 5
}
