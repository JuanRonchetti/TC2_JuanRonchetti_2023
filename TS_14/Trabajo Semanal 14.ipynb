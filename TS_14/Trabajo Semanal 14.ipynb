{
 "cells": [
  {
   "cell_type": "markdown",
   "id": "d3799328",
   "metadata": {},
   "source": [
    "<img src=\"./img/Logo.jpg\" align=\"right\" width=\"150\" /> \n",
    "\n",
    "#### Teoría de los Circuitos 2\n",
    "\n",
    "# Trabajo Semanal 14 - Síntesis de Cuadripolos Doblemente Cargados\n",
    "\n",
    "### Juan Manuel Ronchetti"
   ]
  },
  {
   "cell_type": "markdown",
   "id": "6ea21d88",
   "metadata": {},
   "source": [
    "# Consigna\n",
    "Diseñe el cuadripolo A para que se comporte como:\n",
    "\n",
    "* Filtro pasa bajos Bessel de 3er. orden \n",
    "* No disipativo\n",
    "* Normalizado en frecuencia e impedancia\n",
    "\n",
    "Respetando la siguiente topologia:\n",
    "\n",
    "<img src=\"./img/Cuadripolo.png\" width=\"400\" /> \n",
    "\n",
    "1) Obtenga la impedancia de entrada al cuadripolo A, cargado con un resistor de 1Ω a la salida.\n",
    "2) Sintetice A como un cuadripolo escalera.\n",
    "3) Simule el comportamiento de la red en LTspice graficando S21 y S11 en función de la frecuencia.\n",
    "4) Explique el comportamiento de A a partir de los valores de S11 en las siguientes frecuencias:\n",
    "* Centro de la banda de paso\n",
    "* Frecuencia de corte\n",
    "* Transición y centro de la banda de detenida\n",
    "5) Modifique el circuito para que la frecuencia de corte sea 2 π 10⁶ rad/s y la resistencia del generador sea 50Ω."
   ]
  },
  {
   "cell_type": "markdown",
   "id": "8c576e6e",
   "metadata": {},
   "source": [
    "# 1. Obtención de la impedancia de entrada\n",
    "\n",
    "<img src=\"./img/Ej1.png\" width=\"650\" /> "
   ]
  },
  {
   "cell_type": "markdown",
   "id": "9a40738d",
   "metadata": {},
   "source": [
    "# 2. Síntesis\n",
    "\n",
    "<img src=\"./img/Ej2.png\" width=\"650\" /> "
   ]
  },
  {
   "cell_type": "markdown",
   "id": "206a5960",
   "metadata": {},
   "source": [
    "# 3. Simulación circuital\n",
    "\n",
    "### Circuito en LTSpice\n",
    "<img src=\"./img/Circuito.png\" width=\"450\" /> \n",
    "\n",
    "### $S_{21}$\n",
    "\n",
    "En el grafico superior se observan la respuesta de modulo y fase, y en el inferior el retardo de grupo:\n",
    "<img src=\"./img/S21_norm.png\" width=\"650\" /> \n",
    "\n",
    "Al representar el parametro $S_{21}$ la transferencia de tension buscada, se observa que se obtuvo adecuadamente un filtro pasabajos Bessel, cuya fase es lineal y su retardo de grupo constante hasta la frecuencia de corte normalizada $\\omega_c = 1$. \n",
    "\n",
    "### $S_{11}$\n",
    "\n",
    "En el grafico superior se observan la respuesta de modulo y fase, y en el inferior el retardo de grupo:\n",
    "<img src=\"./img/S11_norm.png\" width=\"650\" /> "
   ]
  },
  {
   "cell_type": "markdown",
   "id": "29a56112",
   "metadata": {},
   "source": [
    "# 4. Análisis del comportamiento\n",
    "\n",
    "En el siguiente grafico se encuentran superpuestos $S_{11}$ (rojo) y $S_{21}$ (azul):\n",
    "\n",
    "<img src=\"./img/Comparacion.png\" width=\"650\" /> \n",
    "\n",
    "Se observa que en corriente continua, cuando la transferencia ($S_{21}$) se encuentra en la banda de paso, $S_{11}$ tiene a menos infinito dB. Esto implica que el puerto se encuentra adaptado, por lo que el coeficiente de reflexión es 0. \n",
    "\n",
    "A partir de la frecuencia de corte, $S_{21}$ comienza a caer (se atenua la transferencia de tension) y $S_{11}$ comienza a tender a 0. Esto ultimo implica que el coeficiente de reflexion se vuelve cercano a uno, alejandose de la adaptacion. "
   ]
  },
  {
   "cell_type": "markdown",
   "id": "c7e20966",
   "metadata": {},
   "source": [
    "# 5. Desnormalización\n",
    "\n",
    "### Valores de los componentes\n",
    "\n",
    "Se pide una $\\omega_c = 2 \\pi M\\frac{rad}{s} $ y una resistencia de generador de $50 \\Omega$.\n",
    "\n",
    "Aplicando las ecuaciones de desnormalización, los valores de los componentes resultan los siguientes:\n",
    "\n",
    "$R_1 = R_2 = 50 \\Omega$\n",
    "\n",
    "$L_1 = 1.25506 \\cdot \\frac{50 \\Omega}{2 \\pi M\\frac{rad}{s}} = 9.987\\mu Hy$\n",
    "\n",
    "$L_2 = 0.1921 \\cdot \\frac{50 \\Omega}{2 \\pi M\\frac{rad}{s}} = 1.5286\\mu Hy$\n",
    "\n",
    "$C_1 = 0.55275 \\cdot \\frac{1}{50 \\Omega \\cdot 2 \\pi M\\frac{rad}{s}} = 1.7594 nF$\n",
    "\n",
    "### Circuito en LTSpice\n",
    "<img src=\"./img/CircuitoDes.png\" width=\"450\" /> \n",
    "\n",
    "### $S_{21}$\n",
    "\n",
    "En el grafico superior se observan la respuesta de modulo y fase, y en el inferior el retardo de grupo:\n",
    "<img src=\"./img/S21_des.png\" width=\"650\" /> \n",
    "\n",
    "Se observa que la $f_c$ corresponde a $1MHz$ acorde a lo buscado, para una resistencia de generador de $50 \\Omega$. \n",
    "\n",
    "### $S_{11}$\n",
    "\n",
    "En el grafico superior se observan la respuesta de modulo y fase, y en el inferior el retardo de grupo:\n",
    "<img src=\"./img/S11_des.png\" width=\"650\" /> "
   ]
  }
 ],
 "metadata": {
  "kernelspec": {
   "display_name": "Python 3 (ipykernel)",
   "language": "python",
   "name": "python3"
  },
  "language_info": {
   "codemirror_mode": {
    "name": "ipython",
    "version": 3
   },
   "file_extension": ".py",
   "mimetype": "text/x-python",
   "name": "python",
   "nbconvert_exporter": "python",
   "pygments_lexer": "ipython3",
   "version": "3.9.13"
  }
 },
 "nbformat": 4,
 "nbformat_minor": 5
}
