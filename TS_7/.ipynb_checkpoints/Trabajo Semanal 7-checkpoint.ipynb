{
 "cells": [
  {
   "cell_type": "markdown",
   "id": "23906c8b",
   "metadata": {},
   "source": [
    "<img src=\"./img/Logo.jpg\" align=\"right\" width=\"150\" /> \n",
    "\n",
    "#### Teoría de los Circuitos 2\n",
    "\n",
    "# Trabajo Semanal 7\n",
    "\n",
    "### Juan Manuel Ronchetti\n",
    "\n",
    "## Inicializacion de bibliotecas"
   ]
  },
  {
   "cell_type": "code",
   "execution_count": 2,
   "id": "c60a4f4c",
   "metadata": {},
   "outputs": [],
   "source": [
    "import sympy as sp\n",
    "from sympy.abc import s\n",
    "import numpy as np\n",
    "import math as m\n",
    "from pytc2.cuadripolos import calc_MAI_impedance_ij, calc_MAI_vtransf_ij_mn, calc_MAI_ztransf_ij_mn\n",
    "from pytc2.general import print_latex"
   ]
  },
  {
   "cell_type": "markdown",
   "id": "899cc6cd",
   "metadata": {},
   "source": [
    "# Ejercicio 1\n",
    "\n",
    "Para el siguiente circuito, se pide:\n",
    "\n",
    "<img src=\"./img/Ej1.png\" width=\"450\" />\n",
    "\n",
    "* Calcular los parametros Z\n",
    "* Simular en SPICE los parámetros de cuadripolo con la directiva .net\n",
    "* Verifique mediante el módulo de simulación simbólica SymPy la impedancia de entrada "
   ]
  },
  {
   "cell_type": "markdown",
   "id": "50621eb7",
   "metadata": {},
   "source": [
    "## Calculo de parametros Z\n",
    "\n",
    "<img src=\"./img/Ejercicio 1.jfif\" width=\"650\" />\n",
    "\n",
    "A partir de los resultados obtenidos en el desarrollo en papel, y considerando la relacion $V_2 = -V_1$ para el problema dado, se obtuvo la siguiente matriz de parametros Z:\n",
    "\n",
    "\\begin{equation} Z = \\begin{pmatrix} 0.3 & -0.3 \\\\ -0.3 & 0.3  \\end{pmatrix} \\end{equation}\n",
    "\n",
    "## Simulacion simbolica"
   ]
  },
  {
   "cell_type": "code",
   "execution_count": 6,
   "id": "b663710d",
   "metadata": {},
   "outputs": [
    {
     "data": {
      "text/latex": [
       "$\\displaystyle 0.5 I_{1} - 0.5 I_{2} - 0.666666666666667 V_{1}$"
      ],
      "text/plain": [
       "0.5*I1 - 0.5*I2 - 0.666666666666667*V1"
      ]
     },
     "execution_count": 6,
     "metadata": {},
     "output_type": "execute_result"
    }
   ],
   "source": [
    "# Variables simbólicas\n",
    "s = sp.symbols('s', complex=True)\n",
    "G1, G2, G3, a, I1, I2, V1, V2 = sp.symbols(\"G1, G2, G3, a, I1, I2, V1, V2\", real=True, positive=True)\n",
    "V1 = ( 1/(G1+G2+G2/a) ) * ( I1 - ( (V1/(a**2))*(G3+G2) + V1*G2/a + I2/a ) )\n",
    "\n",
    "V1 = sp.simplify( V1.subs([ (G1, 1), (G2, 1/2), (G3, 1/3), (a, 1) ]) )\n",
    "V1"
   ]
  },
  {
   "cell_type": "markdown",
   "id": "c8bf2ffc",
   "metadata": {},
   "source": [
    "A traves de la simulacion simbolica se obtuvo que:\n",
    "\n",
    "$V_1 = 0.5 I_1 − 0.5 I_2 − 0.66 V_1$\n",
    "\n",
    "Lo cual se puede reducir a:\n",
    "\n",
    "$V_1 = 0.3 I_1 - 0.5 I_2$\n",
    "\n",
    "La misma ecuacion a la cual se llego en papel. Por lo tanto, se comprueba que se obtuvo el mismo resultado que en el desarrollo en papel."
   ]
  },
  {
   "cell_type": "markdown",
   "id": "895729e5",
   "metadata": {},
   "source": [
    "## Simulacion circuital\n",
    "\n",
    "Para verificar los resultados obtenidos, se construyo el circuito en LTSpice, y se simuló utilizando la directiva .net para visualizar los parametros de cuadripolos del mismo. \n",
    "\n",
    "A continuacion se observan el circuito y los resultados obtenidos:\n",
    "\n",
    "<img src=\"./img/Circuito1.png\" width=\"650\" />\n",
    "<img src=\"./img/Sim1a.png\" width=\"650\" />\n",
    "<img src=\"./img/Sim1b.png\" width=\"650\" />\n",
    "\n",
    "Se observa que los resultados de la simulacion en LTSpice difieren ligeramente con los resultados obtenidos en papel y en la simulacion simbolica. Esto puede deberse a la utilizacion de inductores para simular el comportamiento de un transformador ideal, debido al computo realizado por el simulador circuital. Sin embargo, para los propositos de este ejercicio, se considera el resultado exitoso."
   ]
  },
  {
   "cell_type": "markdown",
   "id": "84fbc5fe",
   "metadata": {},
   "source": [
    "# Ejercicio 2\n",
    "\n",
    "Para el siguiente circuito, se pide:\n",
    "<img src=\"./img/Ej2.png\" width=\"450\" />\n",
    "\n",
    "* Obtener la transferencia de tensión por método de cuadripolos.\n",
    "* Construya la matriz de admitancia indefinida (MAI) del circuito.\n",
    "* Compute la transferencia de tensión con la MAI.\n",
    "* Compute la impedancia de entrada con la MAI.\n",
    "* Simular en SPICE  para verificar la transferencia."
   ]
  },
  {
   "cell_type": "markdown",
   "id": "4c1974e9",
   "metadata": {},
   "source": [
    "## Obtencion de la transferencia \n",
    "\n",
    "<img src=\"./img/Ejercicio2.jfif\" width=\"650\" />\n",
    "\n",
    "Se observa que para los valores de los componentes dados en el problema, la transferencia corresponde a un filtro pasabajos Butterworth de orden 3, tal que:\n",
    "\n",
    "\\begin{equation} T(s) = \\frac{1}{s^3 + 2s^2 + 2s + 1} \\end{equation}"
   ]
  },
  {
   "cell_type": "markdown",
   "id": "a237d0af",
   "metadata": {},
   "source": [
    "## Matriz de Admitancia Indefinida"
   ]
  },
  {
   "cell_type": "code",
   "execution_count": 38,
   "id": "9610ee67",
   "metadata": {},
   "outputs": [
    {
     "name": "stdout",
     "output_type": "stream",
     "text": [
      "Impedancia de entrada:\n"
     ]
    },
    {
     "data": {
      "text/latex": [
       "$\\displaystyle  [Y_{MAI}] = \\left[\\begin{matrix}\\frac{1}{L_{1} s} & - \\frac{1}{L_{1} s} & 0 & 0\\\\- \\frac{1}{L_{1} s} & C_{2} s + \\frac{1}{L_{3} s} + \\frac{1}{L_{1} s} & \\frac{1}{L_{3} s} & - C_{2} s\\\\0 & - \\frac{1}{L_{3} s} & G + \\frac{1}{L_{3} s} & - G\\\\0 & - C_{2} s & - G & C_{2} s + G\\end{matrix}\\right]$"
      ],
      "text/plain": [
       "<IPython.core.display.Math object>"
      ]
     },
     "metadata": {},
     "output_type": "display_data"
    },
    {
     "data": {
      "text/latex": [
       "$\\displaystyle  [Y^{ 00 }_{ 33 } ] = \\left[\\begin{matrix}C_{2} s + \\frac{1}{L_{3} s} + \\frac{1}{L_{1} s} & \\frac{1}{L_{3} s}\\\\- \\frac{1}{L_{3} s} & G + \\frac{1}{L_{3} s}\\end{matrix}\\right]$"
      ],
      "text/plain": [
       "<IPython.core.display.Math object>"
      ]
     },
     "metadata": {},
     "output_type": "display_data"
    },
    {
     "data": {
      "text/latex": [
       "$\\displaystyle [Y^{ 0 }_{ 0 }] = \\left[\\begin{matrix}C_{2} s + \\frac{1}{L_{3} s} + \\frac{1}{L_{1} s} & \\frac{1}{L_{3} s} & - C_{2} s\\\\- \\frac{1}{L_{3} s} & G + \\frac{1}{L_{3} s} & - G\\\\- C_{2} s & - G & C_{2} s + G\\end{matrix}\\right]$"
      ],
      "text/plain": [
       "<IPython.core.display.Math object>"
      ]
     },
     "metadata": {},
     "output_type": "display_data"
    },
    {
     "data": {
      "text/latex": [
       "$\\displaystyle Z_{ 03 } = \\frac{ \\underline{Y}^{ 00 }_{ 33 } }{ \\underline{Y}^{ 0 }_{ 0 } } = \\frac{C_{2} G L_{1} L_{3}^{2} s^{3} + C_{2} L_{1} L_{3} s^{2} + G L_{1} L_{3} s + G L_{3}^{2} s + 2 L_{1} + L_{3}}{2 C_{2} G L_{1} L_{3} s^{2} + C_{2} G L_{3}^{2} s^{2} + 2 C_{2} L_{1} s + C_{2} L_{3} s + 2 G L_{1} + G L_{3}}$"
      ],
      "text/plain": [
       "<IPython.core.display.Math object>"
      ]
     },
     "metadata": {},
     "output_type": "display_data"
    },
    {
     "name": "stdout",
     "output_type": "stream",
     "text": [
      "Transferencia de tensión:\n"
     ]
    },
    {
     "data": {
      "text/latex": [
       "$\\displaystyle  [Y_{MAI}] = \\left[\\begin{matrix}\\frac{1}{L_{1} s} & - \\frac{1}{L_{1} s} & 0 & 0\\\\- \\frac{1}{L_{1} s} & C_{2} s + \\frac{1}{L_{3} s} + \\frac{1}{L_{1} s} & \\frac{1}{L_{3} s} & - C_{2} s\\\\0 & - \\frac{1}{L_{3} s} & G + \\frac{1}{L_{3} s} & - G\\\\0 & - C_{2} s & - G & C_{2} s + G\\end{matrix}\\right]$"
      ],
      "text/plain": [
       "<IPython.core.display.Math object>"
      ]
     },
     "metadata": {},
     "output_type": "display_data"
    },
    {
     "data": {
      "text/latex": [
       "$\\displaystyle  [Y^{ 03 }_{ 23 } ] = \\left[\\begin{matrix}- \\frac{1}{L_{1} s} & 0\\\\C_{2} s + \\frac{1}{L_{3} s} + \\frac{1}{L_{1} s} & \\frac{1}{L_{3} s}\\end{matrix}\\right]$"
      ],
      "text/plain": [
       "<IPython.core.display.Math object>"
      ]
     },
     "metadata": {},
     "output_type": "display_data"
    },
    {
     "data": {
      "text/latex": [
       "$\\displaystyle [Y^{ 03 }_{ 03 } ] = \\left[\\begin{matrix}C_{2} s + \\frac{1}{L_{3} s} + \\frac{1}{L_{1} s} & \\frac{1}{L_{3} s}\\\\- \\frac{1}{L_{3} s} & G + \\frac{1}{L_{3} s}\\end{matrix}\\right]$"
      ],
      "text/plain": [
       "<IPython.core.display.Math object>"
      ]
     },
     "metadata": {},
     "output_type": "display_data"
    },
    {
     "data": {
      "text/latex": [
       "$\\displaystyle T^{ 23 }_{ 03 } = \\frac{ \\underline{Y}^{ 03 }_{ 23 } }{ \\underline{Y}^{ 03 }_{ 03 } } =  -1^{ 8 } \\frac{{ - \\frac{1}{L_{1} L_{3} s^{2}}}}{{C_{2} G s + \\frac{C_{2}}{L_{3}} + \\frac{G}{L_{3} s} + \\frac{G}{L_{1} s} + \\frac{2}{L_{3}^{2} s^{2}} + \\frac{1}{L_{1} L_{3} s^{2}}}} = \\frac{L_{3}}{C_{2} G L_{1} L_{3}^{2} s^{3} + C_{2} L_{1} L_{3} s^{2} + G L_{1} L_{3} s + G L_{3}^{2} s + 2 L_{1} + L_{3}}$"
      ],
      "text/plain": [
       "<IPython.core.display.Math object>"
      ]
     },
     "metadata": {},
     "output_type": "display_data"
    }
   ],
   "source": [
    "'''    \n",
    "* Circuito a analizar:\n",
    "\n",
    "    (0)----------Y1----(1)---Y3---(2)\n",
    "                        |          |\n",
    "                        Y2         G\n",
    "                        |          |\n",
    "    (3)-----------------------------\n",
    "    \n",
    "'''    \n",
    "# Variables simbólicas\n",
    "s = sp.symbols('s', complex=True)\n",
    "L1, C2, L3, G = sp.symbols(\"L1, C2, L3, G\", real=True, positive=True)\n",
    "\n",
    "\n",
    "# MAI\n",
    "Ymai = sp.Matrix([  \n",
    "                    [ 1/(s*L1),   -1/(s*L1),                     0,               -0     ],\n",
    "                    [ -1/(s*L1),   1/(s*L1) + 1/(s*L3) + s*C2,   1/(s*L3),        -s*C2  ],\n",
    "                    [ 0,          -1/(s*L3),                     1/(s*L3)+G,      -G     ],\n",
    "                    [ 0,          -s*C2,                         -G,              s*C2+G ]\n",
    "                 ])\n",
    "\n",
    "con_detalles = True\n",
    "\n",
    "# Impedancia de entrada\n",
    "print('Impedancia de entrada:')\n",
    "Zin = calc_MAI_impedance_ij(Ymai, 0, 3, verbose=con_detalles)\n",
    "\n",
    "# Transferencia de tension\n",
    "print('Transferencia de tensión:')\n",
    "Vmai = calc_MAI_vtransf_ij_mn(Ymai, 2, 3, 0, 3, verbose=con_detalles)"
   ]
  },
  {
   "cell_type": "code",
   "execution_count": 40,
   "id": "69bfdc1b",
   "metadata": {},
   "outputs": [
    {
     "name": "stdout",
     "output_type": "stream",
     "text": [
      "Impedancia de entrada con valores del problema:\n"
     ]
    },
    {
     "data": {
      "text/latex": [
       "$\\displaystyle \\frac{0.5 s^{3} + 1.0 s^{2} + 1.0 s + 3.5}{2.33333333333333 s^{2} + 4.66666666666667 s + 3.5}$"
      ],
      "text/plain": [
       "(0.5*s**3 + 1.0*s**2 + 1.0*s + 3.5)/(2.33333333333333*s**2 + 4.66666666666667*s + 3.5)"
      ]
     },
     "execution_count": 40,
     "metadata": {},
     "output_type": "execute_result"
    }
   ],
   "source": [
    "print('Impedancia de entrada con valores del problema:')\n",
    "Zin_num = sp.simplify( Zin.subs([ (L1, 1.5), (C2, 4/3), (L3, 0.5), (G, 1) ]) )\n",
    "Zin_num"
   ]
  },
  {
   "cell_type": "code",
   "execution_count": 39,
   "id": "d931d9fc",
   "metadata": {},
   "outputs": [
    {
     "name": "stdout",
     "output_type": "stream",
     "text": [
      "Transferencia con valores del problema:\n"
     ]
    },
    {
     "data": {
      "text/latex": [
       "$\\displaystyle \\frac{0.5}{0.5 s^{3} + 1.0 s^{2} + 1.0 s + 3.5}$"
      ],
      "text/plain": [
       "0.5/(0.5*s**3 + 1.0*s**2 + 1.0*s + 3.5)"
      ]
     },
     "execution_count": 39,
     "metadata": {},
     "output_type": "execute_result"
    }
   ],
   "source": [
    "print('Transferencia con valores del problema:')\n",
    "Vmai_num = sp.simplify( Vmai.subs([ (L1, 1.5), (C2, 4/3), (L3, 0.5), (G, 1) ]) ) \n",
    "Vmai_num"
   ]
  },
  {
   "cell_type": "markdown",
   "id": "06896839",
   "metadata": {},
   "source": [
    "### Analisis de los resultados de la simulacion\n",
    "\n",
    "Se observa que planteando la matriz de admitancia indefinida y computando sus resultados con python se logro obtener la misma transferencia calculada en papel. Se encuentra en este metodo una herramienta util y efectiva para este tipo de problemas "
   ]
  },
  {
   "cell_type": "markdown",
   "id": "1e67bffa",
   "metadata": {},
   "source": [
    "## Simulacion circuital\n",
    "\n",
    "Para finalizar, se construyo el circuito en LTSpice, y se simuló para visualizar la transferencia. A continuacion se observan el circuito y los resultados obtenidos:\n",
    "\n",
    "<img src=\"./img/Circuito2.png\" width=\"650\" />\n",
    "<img src=\"./img/Sim2.png\" width=\"650\" />\n",
    "\n",
    "Se observa una transferencia acorde con el filtro pasabajos Butterworth de orden 3 calculado, por ende el resultado es exitoso."
   ]
  }
 ],
 "metadata": {
  "kernelspec": {
   "display_name": "Python 3 (ipykernel)",
   "language": "python",
   "name": "python3"
  },
  "language_info": {
   "codemirror_mode": {
    "name": "ipython",
    "version": 3
   },
   "file_extension": ".py",
   "mimetype": "text/x-python",
   "name": "python",
   "nbconvert_exporter": "python",
   "pygments_lexer": "ipython3",
   "version": "3.9.13"
  }
 },
 "nbformat": 4,
 "nbformat_minor": 5
}
